{
  "nbformat": 4,
  "nbformat_minor": 0,
  "metadata": {
    "colab": {
      "private_outputs": true,
      "provenance": [],
      "gpuType": "T4"
    },
    "kernelspec": {
      "name": "python3",
      "display_name": "Python 3"
    },
    "language_info": {
      "name": "python"
    },
    "accelerator": "GPU"
  },
  "cells": [
    {
      "cell_type": "code",
      "execution_count": null,
      "metadata": {
        "id": "ECAotzMTC2NU"
      },
      "outputs": [],
      "source": [
        "import numpy as np\n",
        "import pandas as pd\n",
        "import seaborn as sns\n",
        "import matplotlib.ticker as mtick\n",
        "import matplotlib.pyplot as plt"
      ]
    },
    {
      "cell_type": "code",
      "source": [
        "telco_base_data= pd.read_csv(\"/content/WA_Fn-UseC_-Telco-Customer-Churn.csv\")"
      ],
      "metadata": {
        "id": "N6P7tEMHEgS-"
      },
      "execution_count": null,
      "outputs": []
    },
    {
      "cell_type": "code",
      "source": [
        "telco_base_data.head()"
      ],
      "metadata": {
        "id": "KTlT9KWcKDqe"
      },
      "execution_count": null,
      "outputs": []
    },
    {
      "cell_type": "code",
      "source": [
        "print(telco_base_data['TotalCharges'].dtypes)"
      ],
      "metadata": {
        "id": "p95ou1z1KLng"
      },
      "execution_count": null,
      "outputs": []
    },
    {
      "cell_type": "code",
      "source": [
        " telco_base_data.shape"
      ],
      "metadata": {
        "id": "6kK4k3SWKIRD"
      },
      "execution_count": null,
      "outputs": []
    },
    {
      "cell_type": "code",
      "source": [
        "telco_base_data.columns.values"
      ],
      "metadata": {
        "id": "FmfJ_EKtFQGs"
      },
      "execution_count": null,
      "outputs": []
    },
    {
      "cell_type": "code",
      "source": [
        "telco_base_data.dtypes"
      ],
      "metadata": {
        "id": "KQaiuKb3q3yK"
      },
      "execution_count": null,
      "outputs": []
    },
    {
      "cell_type": "code",
      "source": [
        "telco_base_data.describe()"
      ],
      "metadata": {
        "id": "fTKUMM10Fvja"
      },
      "execution_count": null,
      "outputs": []
    },
    {
      "cell_type": "code",
      "source": [
        "#  To find the churn ration\n",
        "telco_base_data['Churn'].value_counts().plot(kind= 'barh', figsize=(7,5))\n",
        "plt.xlabel(\"Count\", labelpad= 14)\n",
        "plt.ylabel(\"Target Variable\", labelpad= 14)\n",
        "plt.title(\"Count of Target Variable per category\", y=1.02)"
      ],
      "metadata": {
        "id": "0W_o31XPF76L"
      },
      "execution_count": null,
      "outputs": []
    },
    {
      "cell_type": "code",
      "source": [
        "cout= telco_base_data[\"Churn\"].value_counts()"
      ],
      "metadata": {
        "id": "y04vWoHSI8oR"
      },
      "execution_count": null,
      "outputs": []
    },
    {
      "cell_type": "code",
      "source": [
        "for i in cout:\n",
        "  print((i/len(telco_base_data[\"Churn\"]))*100)"
      ],
      "metadata": {
        "id": "aRv6UsGGMH5b"
      },
      "execution_count": null,
      "outputs": []
    },
    {
      "cell_type": "code",
      "source": [
        "telco_base_data['Churn'].value_counts()"
      ],
      "metadata": {
        "id": "8IAjQxygrU8G"
      },
      "execution_count": null,
      "outputs": []
    },
    {
      "cell_type": "code",
      "source": [
        "# For imbalanced data we use upsampling and downsampling"
      ],
      "metadata": {
        "id": "2a3LsXchMciB"
      },
      "execution_count": null,
      "outputs": []
    },
    {
      "cell_type": "code",
      "source": [
        "telco_base_data.info()"
      ],
      "metadata": {
        "id": "25nFO44ecVRz"
      },
      "execution_count": null,
      "outputs": []
    },
    {
      "cell_type": "code",
      "source": [
        "\n",
        "missing = pd.DataFrame((telco_base_data.isnull().sum()) * 100 / telco_base_data.shape[0]).reset_index()\n",
        "missing.columns = ['Feature', 'Percentage']\n",
        "\n",
        "plt.figure(figsize=(16, 5))\n",
        "ax = sns.pointplot(x='Feature', y='Percentage', data=missing)\n",
        "plt.xticks(rotation=90, fontsize=7)\n",
        "plt.title(\"Percentage of Missing Values\")\n",
        "plt.show()"
      ],
      "metadata": {
        "id": "qyfI37aAfDRp"
      },
      "execution_count": null,
      "outputs": []
    },
    {
      "source": [
        "# import pandas as pd\n",
        "\n",
        "# # Sample DataFrame\n",
        "# data = {'Name': ['Alice', 'Bob', 'Charlie'],\n",
        "#         'Age': [25, 30, 28]}\n",
        "# df = pd.DataFrame(data, index=['a', 'b', 'c'])\n",
        "\n",
        "# # 1. Resetting the index, keeping the original index as a column\n",
        "# df_reset = df.reset_index()\n",
        "# print(df_reset)\n",
        "\n",
        "# # 2. Resetting the index, dropping the original index\n",
        "# df_reset_drop = df.reset_index(drop=True)\n",
        "# print(df_reset_drop)\n",
        "\n",
        "# # 3. Resetting a MultiIndex\n",
        "# # (Assume df has a MultiIndex)\n",
        "# df_reset_level = df.reset_index(level=1)\n",
        "\n",
        "# # 4. Setting the name of the new column\n",
        "# df_reset_name = df.reset_index(name='OriginalIndex')\n",
        "# print(df_reset_name)\n",
        "\n",
        "# # 5. Modifying the original DataFrame directly\n",
        "# df.reset_index(inplace=True)\n",
        "# print(df)"
      ],
      "cell_type": "code",
      "metadata": {
        "id": "AyKF5hIYp6Hb"
      },
      "execution_count": null,
      "outputs": []
    },
    {
      "cell_type": "code",
      "source": [
        "# Data cleaning"
      ],
      "metadata": {
        "id": "pWGXSsZqh7V0"
      },
      "execution_count": null,
      "outputs": []
    },
    {
      "cell_type": "code",
      "source": [
        "# Create a copy of base data for manupulation & processing\n",
        "telco_data= telco_base_data.copy()"
      ],
      "metadata": {
        "id": "gLhohTS2JPd9"
      },
      "execution_count": null,
      "outputs": []
    },
    {
      "cell_type": "code",
      "source": [
        "telco_data.TotalCharges= pd.to_numeric(telco_data.TotalCharges, errors='coerce')\n",
        "telco_data.isnull().sum()"
      ],
      "metadata": {
        "id": "QkiM3xV5JV33"
      },
      "execution_count": null,
      "outputs": []
    },
    {
      "cell_type": "code",
      "source": [
        "telco_data.loc[telco_data['TotalCharges'].isnull()==True]\n"
      ],
      "metadata": {
        "id": "0cd3TGCEK2aW"
      },
      "execution_count": null,
      "outputs": []
    },
    {
      "cell_type": "code",
      "source": [
        " telco_data.dropna(how= 'any', inplace= True)\n",
        ""
      ],
      "metadata": {
        "id": "IZfOj1WiPgYd"
      },
      "execution_count": null,
      "outputs": []
    },
    {
      "source": [
        "# df.fillna(0)  # Fills all NaN values with 0\n",
        "# df['Age'].fillna(df['Age'].mean())  # Fills NaN in 'Age' with the mean age"
      ],
      "cell_type": "code",
      "metadata": {
        "id": "NWR8JCodpqPP"
      },
      "execution_count": null,
      "outputs": []
    },
    {
      "cell_type": "code",
      "source": [
        "print(telco_data['tenure'].max())"
      ],
      "metadata": {
        "id": "qUUzUi_gm5sk"
      },
      "execution_count": null,
      "outputs": []
    },
    {
      "cell_type": "code",
      "source": [
        "labels= [\"{0} - {1}\".format(i, i+11) for i in range(1, 72, 12)]\n",
        "telco_data['tenure_group']= pd.cut(telco_data.tenure, range(1, 80, 12), right= False, labels= labels)"
      ],
      "metadata": {
        "id": "WvziLzMxsc-8"
      },
      "execution_count": null,
      "outputs": []
    },
    {
      "cell_type": "code",
      "source": [
        "telco_data['tenure_group'].value_counts()"
      ],
      "metadata": {
        "id": "oKe_Z1w4swBg"
      },
      "execution_count": null,
      "outputs": []
    },
    {
      "cell_type": "code",
      "source": [
        "telco_data.drop(columns= ['customerID', 'tenure'], axis= 1, inplace= True)"
      ],
      "metadata": {
        "id": "CenM6vanwWUv"
      },
      "execution_count": null,
      "outputs": []
    },
    {
      "cell_type": "code",
      "source": [
        "telco_data.head()"
      ],
      "metadata": {
        "id": "ZBA0AHhlIwcY"
      },
      "execution_count": null,
      "outputs": []
    },
    {
      "cell_type": "code",
      "source": [
        "for i, predictor in enumerate(telco_data.drop(columns= ['Churn', 'TotalCharges', 'MonthlyCharges'])):\n",
        "  plt.figure(i)\n",
        "  gen= sns.countplot(data=telco_data, y= predictor, hue= 'Churn')\n"
      ],
      "metadata": {
        "id": "awRjXDgXI2bv"
      },
      "execution_count": null,
      "outputs": []
    },
    {
      "cell_type": "code",
      "source": [
        "telco_data['Churn']= np.where(telco_data.Churn== 'Yes', 1, 0)"
      ],
      "metadata": {
        "id": "21Yg8AEcLUVX"
      },
      "execution_count": null,
      "outputs": []
    },
    {
      "cell_type": "code",
      "source": [
        "telco_data.head()"
      ],
      "metadata": {
        "id": "4xxbQA81w6ip"
      },
      "execution_count": null,
      "outputs": []
    },
    {
      "cell_type": "code",
      "source": [
        "#One hot encoding --> use to convert chat data\n",
        "# in this process lets take geography as an example there will be many contries for each country we create new column add put 1 if its the location or print 0\n",
        "# Another process dummy trap"
      ],
      "metadata": {
        "id": "lm-y2LpwxOkE"
      },
      "execution_count": null,
      "outputs": []
    },
    {
      "cell_type": "code",
      "source": [
        "telco_data_dumies= pd.get_dummies(telco_data)"
      ],
      "metadata": {
        "id": "FZ5xXSMO3007"
      },
      "execution_count": null,
      "outputs": []
    },
    {
      "cell_type": "code",
      "source": [
        "telco_data_dumies.head()"
      ],
      "metadata": {
        "id": "OioWXgD9GQAS"
      },
      "execution_count": null,
      "outputs": []
    },
    {
      "cell_type": "code",
      "source": [
        "sns.lmplot(data= telco_data_dumies, x= 'MonthlyCharges', y='TotalCharges', fit_reg= False)"
      ],
      "metadata": {
        "id": "ck4EZOyRGTye"
      },
      "execution_count": null,
      "outputs": []
    },
    {
      "cell_type": "code",
      "source": [
        "plt.figure()\n",
        "Mth= sns.kdeplot(telco_data_dumies.MonthlyCharges[(telco_data_dumies['Churn']==0)], color= 'Red', shade= True)\n",
        "Mth= sns.kdeplot(telco_data_dumies.MonthlyCharges[(telco_data_dumies['Churn']==1)], color= 'Blue', shade= True)\n",
        "Mth.legend([\"No Churn\", \"Churn\"], loc= 'upper right')\n",
        "Mth.set_ylabel('Density')\n",
        "Mth.set_xlabel('Monthly Charges')\n",
        "Mth.set_title('Monthly charges by churn')"
      ],
      "metadata": {
        "id": "GFHmVtteG2wb"
      },
      "execution_count": null,
      "outputs": []
    },
    {
      "cell_type": "code",
      "source": [
        "plt.figure(figsize= (20, 8))\n",
        "telco_data_dumies.corr()['Churn'].sort_values(ascending= False).plot(kind= 'bar')"
      ],
      "metadata": {
        "id": "SbNmtXarIMpo"
      },
      "execution_count": null,
      "outputs": []
    },
    {
      "cell_type": "code",
      "source": [
        "plt.figure(figsize=(12,12))\n",
        "sns.heatmap(telco_data_dumies.corr(), cmap=\"Paired\")"
      ],
      "metadata": {
        "id": "PyZO-VNwSrRT"
      },
      "execution_count": null,
      "outputs": []
    },
    {
      "cell_type": "code",
      "source": [
        "\n",
        "new_df1_target0=telco_data.loc[telco_data[\"Churn\"]==0]\n",
        "new_df1_target1=telco_data.loc[telco_data[\"Churn\"]==1]\n"
      ],
      "metadata": {
        "id": "Fcn6McQAjOOp"
      },
      "execution_count": null,
      "outputs": []
    },
    {
      "cell_type": "code",
      "source": [
        "def uniplot(df,col,title,hue =None):\n",
        "\n",
        "    sns.set_style('whitegrid')\n",
        "    sns.set_context('talk')\n",
        "    plt.rcParams[\"axes.labelsize\"] = 20\n",
        "    plt.rcParams['axes.titlesize'] = 22\n",
        "    plt.rcParams['axes.titlepad'] = 30\n",
        "\n",
        "\n",
        "    temp = pd.Series(data = hue)\n",
        "    fig, ax = plt.subplots()\n",
        "    width = len(df[col].unique()) + 7 + 4*len(temp.unique())\n",
        "    fig.set_size_inches(width , 8)\n",
        "    plt.xticks(rotation=45)\n",
        "    plt.yscale('log')\n",
        "    plt.title(title)\n",
        "    ax = sns.countplot(data = df, x= col, order=df[col].value_counts().index,hue = hue,palette='bright')\n",
        "\n",
        "    plt.show()"
      ],
      "metadata": {
        "id": "iqeHZzLBjbG3"
      },
      "execution_count": null,
      "outputs": []
    },
    {
      "cell_type": "code",
      "source": [
        "telco_data_dummies.to_csv('tel_churn.csv')"
      ],
      "metadata": {
        "id": "lHa0r8rZ51IU"
      },
      "execution_count": null,
      "outputs": []
    },
    {
      "cell_type": "code",
      "source": [
        "import pandas as pd\n",
        "from sklearn import metrics\n",
        "from sklearn.model_selection import train_test_split\n",
        "from sklearn.metrics import recall_score, classification_report, confusion_matrix\n",
        "from sklearn.tree import DecisionTreeClassifier\n",
        "from imblearn.combine import SMOTEENN"
      ],
      "metadata": {
        "id": "Rylj_Q-i6pcF"
      },
      "execution_count": null,
      "outputs": []
    },
    {
      "cell_type": "code",
      "source": [
        "df= pd.read_csv(\"/content/tel_churn.csv\")"
      ],
      "metadata": {
        "id": "1J3iht9B6quG"
      },
      "execution_count": null,
      "outputs": []
    },
    {
      "cell_type": "code",
      "source": [
        "df.head()"
      ],
      "metadata": {
        "id": "6Ftjj-dN7LoE"
      },
      "execution_count": null,
      "outputs": []
    },
    {
      "cell_type": "code",
      "source": [
        "df= df.drop(\"Unnamed: 0\", axis= 1)"
      ],
      "metadata": {
        "id": "72SpBLHs7MVv"
      },
      "execution_count": null,
      "outputs": []
    },
    {
      "cell_type": "code",
      "source": [
        "x= df.drop(\"Churn\", axis= 1)\n",
        "y= df[\"Churn\"]"
      ],
      "metadata": {
        "id": "EY0P1CBR7Qiv"
      },
      "execution_count": null,
      "outputs": []
    },
    {
      "cell_type": "code",
      "source": [
        "x_train, x_test, y_train, y_test= train_test_split(x, y, test_size= 0.2)"
      ],
      "metadata": {
        "id": "0_bq-Io97T1d"
      },
      "execution_count": null,
      "outputs": []
    },
    {
      "cell_type": "code",
      "source": [
        "model_dt= DecisionTreeClassifier(criterion= \"gini\", random_state= 100, max_depth= 6, min_samples_leaf= 8)"
      ],
      "metadata": {
        "id": "K7CxZEbN7cl2"
      },
      "execution_count": null,
      "outputs": []
    },
    {
      "cell_type": "code",
      "source": [
        "model_dt.fit(x_train, y_train)"
      ],
      "metadata": {
        "id": "SCfadNA97s52"
      },
      "execution_count": null,
      "outputs": []
    },
    {
      "cell_type": "code",
      "source": [
        "y_pred= model_dt.predict(x_test)\n",
        "y_pred"
      ],
      "metadata": {
        "id": "fanRCyBM-nQ1"
      },
      "execution_count": null,
      "outputs": []
    },
    {
      "cell_type": "code",
      "source": [
        "model_dt.score(x_test, y_test)"
      ],
      "metadata": {
        "id": "teZhH1QC-zRO"
      },
      "execution_count": null,
      "outputs": []
    },
    {
      "cell_type": "code",
      "source": [
        "print(classification_report(y_test, y_pred, labels=[0,1]))\n"
      ],
      "metadata": {
        "id": "bdY_wBlY-2Xy"
      },
      "execution_count": null,
      "outputs": []
    },
    {
      "cell_type": "code",
      "source": [
        "from imblearn.combine import SMOTEENN\n",
        "sm = SMOTEENN()\n",
        "X_resampled, y_resampled = sm.fit_resample(x, y)\n"
      ],
      "metadata": {
        "id": "aURoRjgc-5sZ"
      },
      "execution_count": null,
      "outputs": []
    },
    {
      "cell_type": "code",
      "source": [
        "xr_train,xr_test,yr_train,yr_test=train_test_split(X_resampled, y_resampled,test_size=0.2)\n"
      ],
      "metadata": {
        "id": "DZ-9HIGx_RDK"
      },
      "execution_count": null,
      "outputs": []
    },
    {
      "cell_type": "code",
      "source": [
        "model_dt_smote=DecisionTreeClassifier(criterion = \"gini\",random_state = 100,max_depth=6, min_samples_leaf=8)\n"
      ],
      "metadata": {
        "id": "2_J1ixCWAHog"
      },
      "execution_count": null,
      "outputs": []
    },
    {
      "cell_type": "code",
      "source": [
        "model_dt_smote.fit(xr_train,yr_train)\n",
        "yr_predict = model_dt_smote.predict(xr_test)\n",
        "model_score_r = model_dt_smote.score(xr_test, yr_test)\n",
        "print(model_score_r)\n",
        "print(metrics.classification_report(yr_test, yr_predict))"
      ],
      "metadata": {
        "id": "iDZJKr3OAJqa"
      },
      "execution_count": null,
      "outputs": []
    },
    {
      "cell_type": "code",
      "source": [
        "print(metrics.confusion_matrix(yr_test, yr_predict))\n"
      ],
      "metadata": {
        "id": "pG5kNV2HANte"
      },
      "execution_count": null,
      "outputs": []
    },
    {
      "cell_type": "code",
      "source": [
        "from sklearn.ensemble import RandomForestClassifier"
      ],
      "metadata": {
        "id": "wjqCRW1RAQ4b"
      },
      "execution_count": null,
      "outputs": []
    },
    {
      "cell_type": "code",
      "source": [
        "model_rf=RandomForestClassifier(n_estimators=100, criterion='gini', random_state = 100,max_depth=6, min_samples_leaf=8)\n"
      ],
      "metadata": {
        "id": "K_96FkYeAX12"
      },
      "execution_count": null,
      "outputs": []
    },
    {
      "cell_type": "code",
      "source": [
        "model_rf.fit(x_train,y_train)\n"
      ],
      "metadata": {
        "id": "naG9dIx3AZTK"
      },
      "execution_count": null,
      "outputs": []
    },
    {
      "cell_type": "code",
      "source": [
        "y_pred=model_rf.predict(x_test)\n"
      ],
      "metadata": {
        "id": "5U6vmrbhAbQV"
      },
      "execution_count": null,
      "outputs": []
    },
    {
      "cell_type": "code",
      "source": [
        "model_rf.score(x_test,y_test)\n"
      ],
      "metadata": {
        "id": "N5bMOpUtAdVW"
      },
      "execution_count": null,
      "outputs": []
    },
    {
      "cell_type": "code",
      "source": [
        "print(classification_report(y_test, y_pred, labels=[0,1]))\n"
      ],
      "metadata": {
        "id": "QeSZVUdeAfNa"
      },
      "execution_count": null,
      "outputs": []
    },
    {
      "cell_type": "code",
      "source": [
        "\n",
        "from imblearn.combine import SMOTEENN\n",
        "\n",
        "sm = SMOTEENN()\n",
        "X_resampled1, y_resampled1 = sm.fit_resample(x, y)\n"
      ],
      "metadata": {
        "id": "yFQ4U4YBAjGH"
      },
      "execution_count": null,
      "outputs": []
    },
    {
      "cell_type": "code",
      "source": [
        "xr_train1,xr_test1,yr_train1,yr_test1=train_test_split(X_resampled1, y_resampled1,test_size=0.2)\n"
      ],
      "metadata": {
        "id": "6Kns4SZ_AoCE"
      },
      "execution_count": null,
      "outputs": []
    },
    {
      "cell_type": "code",
      "source": [
        "model_rf_smote=RandomForestClassifier(n_estimators=100, criterion='gini', random_state = 100,max_depth=6, min_samples_leaf=8)\n"
      ],
      "metadata": {
        "id": "XtX_s9qVBV-h"
      },
      "execution_count": null,
      "outputs": []
    },
    {
      "cell_type": "code",
      "source": [
        "model_rf_smote.fit(xr_train1,yr_train1)\n"
      ],
      "metadata": {
        "id": "aetrgP8qBXWY"
      },
      "execution_count": null,
      "outputs": []
    },
    {
      "cell_type": "code",
      "source": [
        "yr_predict1 = model_rf_smote.predict(xr_test1)\n"
      ],
      "metadata": {
        "id": "mx0ZsyXmBYmi"
      },
      "execution_count": null,
      "outputs": []
    },
    {
      "cell_type": "code",
      "source": [
        "model_score_r1 = model_rf_smote.score(xr_test1, yr_test1)\n"
      ],
      "metadata": {
        "id": "bB79c-LBBaOQ"
      },
      "execution_count": null,
      "outputs": []
    },
    {
      "cell_type": "code",
      "source": [
        "print(model_score_r1)\n",
        "print(metrics.classification_report(yr_test1, yr_predict1))"
      ],
      "metadata": {
        "id": "7D265b4QBcR1"
      },
      "execution_count": null,
      "outputs": []
    },
    {
      "cell_type": "code",
      "source": [],
      "metadata": {
        "id": "ls8aYFCnBgC5"
      },
      "execution_count": null,
      "outputs": []
    }
  ]
}